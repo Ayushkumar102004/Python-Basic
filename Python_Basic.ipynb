{
  "nbformat": 4,
  "nbformat_minor": 0,
  "metadata": {
    "colab": {
      "provenance": []
    },
    "kernelspec": {
      "name": "python3",
      "display_name": "Python 3"
    },
    "language_info": {
      "name": "python"
    }
  },
  "cells": [
    {
      "cell_type": "code",
      "source": [
        "# 1. Write a Python programto print 'Hello would'\n",
        "print('hello would')"
      ],
      "metadata": {
        "colab": {
          "base_uri": "https://localhost:8080/"
        },
        "id": "wIfUpWQJmmnA",
        "outputId": "40d93507-4a23-48d0-a92a-cb979d28591f"
      },
      "execution_count": 4,
      "outputs": [
        {
          "output_type": "stream",
          "name": "stdout",
          "text": [
            "hello would\n"
          ]
        }
      ]
    },
    {
      "cell_type": "code",
      "source": [
        "# 2 . Write a python program that displays your name and age\n",
        "Name = \"Ayush\"\n",
        "Age = 21\n",
        "print('My Name is', Name, 'and i am', Age, 'years old')"
      ],
      "metadata": {
        "colab": {
          "base_uri": "https://localhost:8080/"
        },
        "id": "QmmFDHy1nIIP",
        "outputId": "1181eabe-ee66-4c89-ec48-bd9b71ce0f0c"
      },
      "execution_count": 6,
      "outputs": [
        {
          "output_type": "stream",
          "name": "stdout",
          "text": [
            "My Name is Ayush and i am 21 years old\n"
          ]
        }
      ]
    },
    {
      "cell_type": "code",
      "source": [
        "# 3 . Write code to print all the pre- defined keywords in pyhton using the keywords library.\n",
        "import keyword\n",
        "print(keyword.kwlist)"
      ],
      "metadata": {
        "colab": {
          "base_uri": "https://localhost:8080/"
        },
        "id": "qqoJRuNGn8zz",
        "outputId": "0e5220b5-cf16-4b79-ac43-c84e3ad9273f"
      },
      "execution_count": 8,
      "outputs": [
        {
          "output_type": "stream",
          "name": "stdout",
          "text": [
            "['False', 'None', 'True', 'and', 'as', 'assert', 'async', 'await', 'break', 'class', 'continue', 'def', 'del', 'elif', 'else', 'except', 'finally', 'for', 'from', 'global', 'if', 'import', 'in', 'is', 'lambda', 'nonlocal', 'not', 'or', 'pass', 'raise', 'return', 'try', 'while', 'with', 'yield']\n"
          ]
        }
      ]
    },
    {
      "cell_type": "code",
      "source": [
        "# Write a program that checks if a given word is a python keywords .\n",
        "import keyword\n",
        "word = input('Enter a word: ')\n",
        "if keyword.iskeyword(word):\n",
        "    print(word, 'is a python keyword.')\n",
        "else:\n",
        "    print(word, \"is not a python keyword.\")"
      ],
      "metadata": {
        "colab": {
          "base_uri": "https://localhost:8080/"
        },
        "id": "dnIHRH9rousT",
        "outputId": "43e17dc5-de54-454c-84b2-4dd17cec0c04"
      },
      "execution_count": 11,
      "outputs": [
        {
          "output_type": "stream",
          "name": "stdout",
          "text": [
            "Enter a word:  ayush\n",
            " ayush is not a python keyword.\n"
          ]
        }
      ]
    },
    {
      "cell_type": "code",
      "source": [
        "# 5 .Create a list and tuple in python , and demonstrate mutabilty vs immutability.\n",
        "my_list =[1,2,3]\n",
        "print('original list:', my_list)\n",
        "my_list[0]= 10\n",
        "print('modified list:', my_list )"
      ],
      "metadata": {
        "colab": {
          "base_uri": "https://localhost:8080/"
        },
        "id": "rdVX5uS53wG6",
        "outputId": "5d838b03-d587-4f90-9eff-1e67dd1f26e7"
      },
      "execution_count": 13,
      "outputs": [
        {
          "output_type": "stream",
          "name": "stdout",
          "text": [
            "original list: [1, 2, 3]\n",
            "modified list: [10, 2, 3]\n"
          ]
        }
      ]
    },
    {
      "cell_type": "code",
      "source": [
        "# 6. Write a function to demonstrate the behavior of mutable and immutable arguments.\n",
        "def modify_list(lst):\n",
        "  lst.append(100)\n",
        "\n",
        "def modify_int(x):\n",
        "  x = x + 100\n",
        "  return x\n",
        "\n",
        "nums = [1, 2, 3]\n",
        "modify_list(nums)\n",
        "print('After modifying list', nums)\n",
        "# Mutable changed\n",
        "\n",
        "num = 5\n",
        "print('After modifying int,', modify_int(num)) # Immutable not changed\n",
        "print('Original int,', num)"
      ],
      "metadata": {
        "colab": {
          "base_uri": "https://localhost:8080/"
        },
        "id": "z3TnA5BA4uum",
        "outputId": "b8682e1b-3321-4e56-e71e-adef1831913c"
      },
      "execution_count": 15,
      "outputs": [
        {
          "output_type": "stream",
          "name": "stdout",
          "text": [
            "After modifying list [1, 2, 3, 100]\n",
            "After modifying int, 105\n",
            "Original int, 5\n"
          ]
        }
      ]
    },
    {
      "cell_type": "code",
      "source": [
        "# 7. Write a program that performs basic arithmetic opreation on two user-input numbers.\n",
        "a = int(input('Enter first number: '))\n",
        "b = int(input('Enter second number: '))\n",
        "print('Sum:', a + b)\n",
        "print('difference', a - b)\n",
        "print('product,', a * b)\n",
        "print('quotient', a / b)"
      ],
      "metadata": {
        "colab": {
          "base_uri": "https://localhost:8080/"
        },
        "id": "NDaRx8f_667a",
        "outputId": "9aa309d4-37f6-4a09-c971-ab84f67ea3cc"
      },
      "execution_count": 18,
      "outputs": [
        {
          "output_type": "stream",
          "name": "stdout",
          "text": [
            "Enter first number: 5\n",
            "Enter second number: 4\n",
            "Sum: 9\n",
            "difference 1\n",
            "product, 20\n",
            "quotient 1.25\n"
          ]
        }
      ]
    },
    {
      "cell_type": "code",
      "source": [
        "# 8. Write a program to demonstrate the logical opertors .\n",
        "X=10\n",
        "y=20\n",
        "print('x>5 and Y>15', X>5 and y>15)\n",
        "print('x>15 or Y > 15,', X> 15 or y >15)\n",
        "print('not(x>15):', not(X>15))"
      ],
      "metadata": {
        "colab": {
          "base_uri": "https://localhost:8080/"
        },
        "id": "A5umNCBy8UTN",
        "outputId": "a0c37557-9678-4763-8786-639019c05ace"
      },
      "execution_count": 22,
      "outputs": [
        {
          "output_type": "stream",
          "name": "stdout",
          "text": [
            "x>5 and Y>15 True\n",
            "x>15 or Y > 15, True\n",
            "not(x>15): True\n"
          ]
        }
      ]
    },
    {
      "cell_type": "code",
      "source": [
        "# 9. Write a program that checks if a number is positive ,negative, or zero .\n",
        "n=int(input('entera number'))\n",
        "if n>0:\n",
        "  print('positive')\n",
        "elif n<0:\n",
        "  print('negative')\n",
        "else:\n",
        "  print('zero')"
      ],
      "metadata": {
        "colab": {
          "base_uri": "https://localhost:8080/"
        },
        "id": "6K1LRsSd9rAB",
        "outputId": "7d9f0df3-4118-4121-a45e-8b63bf84b3b0"
      },
      "execution_count": 24,
      "outputs": [
        {
          "output_type": "stream",
          "name": "stdout",
          "text": [
            "entera number5\n",
            "positive\n"
          ]
        }
      ]
    },
    {
      "cell_type": "code",
      "source": [
        "# 10 . Write a for loop to print nubers from 1 to 10.\n",
        "for i in range(1,11,):\n",
        "  print(i)"
      ],
      "metadata": {
        "colab": {
          "base_uri": "https://localhost:8080/"
        },
        "id": "FtS4IT989q1k",
        "outputId": "60a6aeed-9595-4d42-c15a-a4713e82b8d4"
      },
      "execution_count": 26,
      "outputs": [
        {
          "output_type": "stream",
          "name": "stdout",
          "text": [
            "1\n",
            "2\n",
            "3\n",
            "4\n",
            "5\n",
            "6\n",
            "7\n",
            "8\n",
            "9\n",
            "10\n"
          ]
        }
      ]
    }
  ]
}